{
 "cells": [
  {
   "cell_type": "code",
   "execution_count": 10,
   "metadata": {},
   "outputs": [
    {
     "name": "stdout",
     "output_type": "stream",
     "text": [
      "Requirement already satisfied: pytest in c:\\users\\tanzh\\anaconda3\\lib\\site-packages (0.0.0)\n",
      "Requirement already satisfied: attrs>=17.4.0 in c:\\users\\tanzh\\anaconda3\\lib\\site-packages (from pytest) (20.3.0)\n",
      "Requirement already satisfied: iniconfig in c:\\users\\tanzh\\anaconda3\\lib\\site-packages (from pytest) (1.1.1)\n",
      "Requirement already satisfied: packaging in c:\\users\\tanzh\\anaconda3\\lib\\site-packages (from pytest) (20.4)\n",
      "Requirement already satisfied: pluggy<1.0,>=0.12 in c:\\users\\tanzh\\anaconda3\\lib\\site-packages (from pytest) (0.13.1)\n",
      "Requirement already satisfied: py>=1.8.2 in c:\\users\\tanzh\\anaconda3\\lib\\site-packages (from pytest) (1.9.0)\n",
      "Requirement already satisfied: toml in c:\\users\\tanzh\\anaconda3\\lib\\site-packages (from pytest) (0.10.1)\n",
      "Requirement already satisfied: atomicwrites>=1.0 in c:\\users\\tanzh\\anaconda3\\lib\\site-packages (from pytest) (1.4.0)\n",
      "Requirement already satisfied: colorama in c:\\users\\tanzh\\anaconda3\\lib\\site-packages (from pytest) (0.4.4)\n",
      "Requirement already satisfied: pyparsing>=2.0.2 in c:\\users\\tanzh\\anaconda3\\lib\\site-packages (from packaging->pytest) (2.4.7)\n",
      "Requirement already satisfied: six in c:\\users\\tanzh\\anaconda3\\lib\\site-packages (from packaging->pytest) (1.15.0)\n"
     ]
    }
   ],
   "source": [
    "!pip install pytest"
   ]
  },
  {
   "cell_type": "code",
   "execution_count": 7,
   "metadata": {},
   "outputs": [],
   "source": [
    "import sys\n",
    "sys.path.append(\"/Documents/GitHub/dysonCoinGecko\")"
   ]
  },
  {
   "cell_type": "code",
   "execution_count": 12,
   "metadata": {},
   "outputs": [],
   "source": [
    "import pytest"
   ]
  },
  {
   "cell_type": "code",
   "execution_count": 16,
   "metadata": {},
   "outputs": [
    {
     "ename": "NameError",
     "evalue": "name 'CryptoDataAnalyzer' is not defined",
     "output_type": "error",
     "traceback": [
      "\u001b[1;31m---------------------------------------------------------------------------\u001b[0m",
      "\u001b[1;31mNameError\u001b[0m                                 Traceback (most recent call last)",
      "\u001b[1;32m<ipython-input-16-695096f3577b>\u001b[0m in \u001b[0;36m<module>\u001b[1;34m\u001b[0m\n\u001b[0;32m     41\u001b[0m     \u001b[0mtimeframe\u001b[0m \u001b[1;33m=\u001b[0m \u001b[1;33m(\u001b[0m\u001b[0mstart_date\u001b[0m\u001b[1;33m,\u001b[0m \u001b[0mend_date\u001b[0m\u001b[1;33m)\u001b[0m\u001b[1;33m\u001b[0m\u001b[1;33m\u001b[0m\u001b[0m\n\u001b[0;32m     42\u001b[0m \u001b[1;33m\u001b[0m\u001b[0m\n\u001b[1;32m---> 43\u001b[1;33m \u001b[0mtest_get_crypto_data\u001b[0m\u001b[1;33m(\u001b[0m\u001b[1;33m)\u001b[0m\u001b[1;33m\u001b[0m\u001b[1;33m\u001b[0m\u001b[0m\n\u001b[0m\u001b[0;32m     44\u001b[0m \u001b[0mtest_generate_line_plot_prices\u001b[0m\u001b[1;33m(\u001b[0m\u001b[1;33m)\u001b[0m\u001b[1;33m\u001b[0m\u001b[1;33m\u001b[0m\u001b[0m\n\u001b[0;32m     45\u001b[0m \u001b[0mtest_generate_line_plot_market_cap\u001b[0m\u001b[1;33m(\u001b[0m\u001b[1;33m)\u001b[0m\u001b[1;33m\u001b[0m\u001b[1;33m\u001b[0m\u001b[0m\n",
      "\u001b[1;32m<ipython-input-16-695096f3577b>\u001b[0m in \u001b[0;36mtest_get_crypto_data\u001b[1;34m()\u001b[0m\n\u001b[0;32m      1\u001b[0m \u001b[1;32mdef\u001b[0m \u001b[0mtest_get_crypto_data\u001b[0m\u001b[1;33m(\u001b[0m\u001b[1;33m)\u001b[0m\u001b[1;33m:\u001b[0m\u001b[1;33m\u001b[0m\u001b[1;33m\u001b[0m\u001b[0m\n\u001b[1;32m----> 2\u001b[1;33m     \u001b[0mcrypto_analyzer\u001b[0m \u001b[1;33m=\u001b[0m \u001b[0mCryptoDataAnalyzer\u001b[0m\u001b[1;33m(\u001b[0m\u001b[1;33m)\u001b[0m\u001b[1;33m\u001b[0m\u001b[1;33m\u001b[0m\u001b[0m\n\u001b[0m\u001b[0;32m      3\u001b[0m     \u001b[0mstart_date\u001b[0m \u001b[1;33m=\u001b[0m \u001b[0mdatetime\u001b[0m\u001b[1;33m.\u001b[0m\u001b[0mdatetime\u001b[0m\u001b[1;33m(\u001b[0m\u001b[1;36m2022\u001b[0m\u001b[1;33m,\u001b[0m \u001b[1;36m1\u001b[0m\u001b[1;33m,\u001b[0m \u001b[1;36m1\u001b[0m\u001b[1;33m)\u001b[0m\u001b[1;33m\u001b[0m\u001b[1;33m\u001b[0m\u001b[0m\n\u001b[0;32m      4\u001b[0m     \u001b[0mend_date\u001b[0m \u001b[1;33m=\u001b[0m \u001b[0mdatetime\u001b[0m\u001b[1;33m.\u001b[0m\u001b[0mdatetime\u001b[0m\u001b[1;33m(\u001b[0m\u001b[1;36m2022\u001b[0m\u001b[1;33m,\u001b[0m \u001b[1;36m2\u001b[0m\u001b[1;33m,\u001b[0m \u001b[1;36m1\u001b[0m\u001b[1;33m)\u001b[0m\u001b[1;33m\u001b[0m\u001b[1;33m\u001b[0m\u001b[0m\n\u001b[0;32m      5\u001b[0m \u001b[1;33m\u001b[0m\u001b[0m\n",
      "\u001b[1;31mNameError\u001b[0m: name 'CryptoDataAnalyzer' is not defined"
     ]
    }
   ],
   "source": [
    "def test_get_crypto_data():\n",
    "    crypto_analyzer = CryptoDataAnalyzer()\n",
    "    start_date = datetime.datetime(2022, 1, 1)\n",
    "    end_date = datetime.datetime(2022, 2, 1)\n",
    "    \n",
    "    dataframe_eth = crypto_analyzer.get_crypto_data('ethereum', start_date, end_date)\n",
    "    dataframe_btc = crypto_analyzer.get_crypto_data('bitcoin', start_date, end_date)\n",
    "    \n",
    "    assert not dataframe_eth.empty\n",
    "    assert not dataframe_btc.empty\n",
    "\n",
    "def test_generate_line_plot_prices():\n",
    "    crypto_analyzer = CryptoDataAnalyzer()\n",
    "    start_date = datetime.datetime(2022, 1, 1)\n",
    "    end_date = datetime.datetime(2022, 2, 1)\n",
    "    \n",
    "    dataframe_eth = crypto_analyzer.get_crypto_data('ethereum', start_date, end_date)\n",
    "    dataframes = {'ethereum': dataframe_eth}\n",
    "    timeframe = (start_date, end_date)\n",
    "    \n",
    "    assert crypto_analyzer.generate_line_plot_prices(dataframes, timeframe) == None\n",
    "    \n",
    "def test_generate_line_plot_market_cap():\n",
    "    crypto_analyzer = CryptoDataAnalyzer()\n",
    "    start_date = datetime.datetime(2022, 1, 1)\n",
    "    end_date = datetime.datetime(2022, 2, 1)\n",
    "    \n",
    "    dataframe_eth = crypto_analyzer.get_crypto_data('ethereum', start_date, end_date)\n",
    "    dataframes = {'ethereum': dataframe_eth}\n",
    "    timeframe = (start_date, end_date)\n",
    "    \n",
    "    assert crypto_analyzer.generate_line_plot_market_cap(dataframes, timeframe) == None\n",
    "\n",
    "def test_generate_line_plot_total_volume():\n",
    "    crypto_analyzer = CryptoDataAnalyzer()\n",
    "    start_date = datetime.datetime(2022, 1, 1)\n",
    "    end_date = datetime.datetime(2022, 2, 1)\n",
    "    \n",
    "    dataframe_eth = crypto_analyzer.get_crypto_data('ethereum', start_date, end_date)\n",
    "    dataframes = {'ethereum': dataframe_eth}\n",
    "    timeframe = (start_date, end_date)\n",
    "\n",
    "test_get_crypto_data()\n",
    "test_generate_line_plot_prices()\n",
    "test_generate_line_plot_market_cap()\n",
    "test_generate_line_plot_total_volume()\n",
    "print(\"All tests passed!\")\n"
   ]
  },
  {
   "cell_type": "code",
   "execution_count": 15,
   "metadata": {},
   "outputs": [
    {
     "name": "stdout",
     "output_type": "stream",
     "text": [
      "============================= test session starts =============================\n",
      "platform win32 -- Python 3.8.5, pytest-6.1.1, py-1.9.0, pluggy-0.13.1\n",
      "rootdir: C:\\Users\\tanzh\\Documents\\GitHub\\dysonCoinGecko\\tests\n",
      "collected 0 items\n",
      "\n",
      "============================== warnings summary ===============================\n",
      "..\\..\\..\\..\\anaconda3\\lib\\site-packages\\pyreadline\\py3k_compat.py:8\n",
      "  C:\\Users\\tanzh\\anaconda3\\lib\\site-packages\\pyreadline\\py3k_compat.py:8: DeprecationWarning: Using or importing the ABCs from 'collections' instead of from 'collections.abc' is deprecated since Python 3.3, and in 3.9 it will stop working\n",
      "    return isinstance(x, collections.Callable)\n",
      "\n",
      "-- Docs: https://docs.pytest.org/en/stable/warnings.html\n",
      "============================= 1 warning in 0.01s ==============================\n"
     ]
    }
   ],
   "source": [
    "!pytest"
   ]
  },
  {
   "cell_type": "code",
   "execution_count": null,
   "metadata": {},
   "outputs": [],
   "source": []
  }
 ],
 "metadata": {
  "kernelspec": {
   "display_name": "Python 3",
   "language": "python",
   "name": "python3"
  },
  "language_info": {
   "codemirror_mode": {
    "name": "ipython",
    "version": 3
   },
   "file_extension": ".py",
   "mimetype": "text/x-python",
   "name": "python",
   "nbconvert_exporter": "python",
   "pygments_lexer": "ipython3",
   "version": "3.8.5"
  }
 },
 "nbformat": 4,
 "nbformat_minor": 4
}
