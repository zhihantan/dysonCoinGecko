{
 "cells": [
  {
   "cell_type": "code",
   "execution_count": 1,
   "metadata": {},
   "outputs": [],
   "source": [
    "#pip install pycoingecko\n",
    "#Uncomment if you need to install pycoingecko"
   ]
  },
  {
   "cell_type": "code",
   "execution_count": 2,
   "metadata": {},
   "outputs": [],
   "source": [
    "from pycoingecko import CoinGeckoAPI"
   ]
  },
  {
   "cell_type": "code",
   "execution_count": 3,
   "metadata": {},
   "outputs": [],
   "source": [
    "import pandas as pd\n",
    "import matplotlib.pyplot as plt\n",
    "import datetime\n",
    "import matplotlib.ticker as ticker"
   ]
  },
  {
   "cell_type": "code",
   "execution_count": 4,
   "metadata": {},
   "outputs": [],
   "source": [
    "class CryptoDataAnalyzer:\n",
    "    def __init__(self):\n",
    "        self.cg = CoinGeckoAPI()\n",
    "\n",
    "    def get_crypto_data(self, identifier, start_date, end_date):\n",
    "        data = self.cg.get_coin_market_chart_range_by_id(id=identifier,\n",
    "                                                         vs_currency='sgd',\n",
    "                                                         from_timestamp=start_date.timestamp(),\n",
    "                                                         to_timestamp=end_date.timestamp())\n",
    "        prices = data['prices']\n",
    "        market_caps = data['market_caps']\n",
    "        total_volumes = data['total_volumes']\n",
    "\n",
    "        df = pd.DataFrame(prices, columns=['dates', f'{identifier}_price'])\n",
    "        df['dates'] = pd.to_datetime(df['dates'], unit='ms')\n",
    "        df.set_index('dates', inplace=True)\n",
    "\n",
    "        df['market_cap'] = [cap[1] for cap in market_caps]\n",
    "        df['total_volume'] = [vol[1] for vol in total_volumes]\n",
    "\n",
    "        return df\n",
    "    \n",
    "    def generate_line_plot_prices(self, dataframes, timeframe):\n",
    "        for identifier, df in dataframes.items():\n",
    "            plt.figure(figsize=(12, 6))\n",
    "            plt.title(f'{identifier} Prices ({timeframe[0]} - {timeframe[1]})')\n",
    "            plt.plot(df.index, df[f'{identifier}_price'], label=f'{identifier} Price (SGD)')\n",
    "            plt.xlabel('Date')\n",
    "            plt.ylabel('Value (SGD)')\n",
    "            plt.legend()\n",
    "            plt.grid(True)\n",
    "            plt.show()\n",
    "    \n",
    "    def generate_line_plot_market_cap(self, dataframes, timeframe):\n",
    "        for identifier, df in dataframes.items():\n",
    "            plt.figure(figsize=(12, 6))\n",
    "            plt.title(f'{identifier} Market Cap ({timeframe[0]} - {timeframe[1]})')\n",
    "            plt.plot(df.index, df['market_cap'], label=f'{identifier} Market Cap (SGD)')\n",
    "            plt.xlabel('Date')\n",
    "            plt.ylabel('Value (SGD)')\n",
    "            plt.legend()\n",
    "            plt.grid(True)\n",
    "            plt.gca().yaxis.set_major_formatter(ticker.FuncFormatter(lambda x, _: '{:.0f}M'.format(x * 1e-6)))\n",
    "            plt.show()\n",
    "\n",
    "    def generate_line_plot_total_volume(self, dataframes, timeframe):\n",
    "        for identifier, df in dataframes.items():\n",
    "            plt.figure(figsize=(12, 6))\n",
    "            plt.title(f'{identifier} Total Volume ({timeframe[0]} - {timeframe[1]})')\n",
    "            plt.plot(df.index, df['total_volume'], label=f'{identifier} Total Volume (SGD)')\n",
    "            plt.xlabel('Date')\n",
    "            plt.ylabel('Value (SGD)')\n",
    "            plt.legend()\n",
    "            plt.grid(True)\n",
    "            plt.gca().yaxis.set_major_formatter(ticker.FuncFormatter(lambda x, _: '{:.0f}M'.format(x * 1e-6)))\n",
    "            plt.show()\n"
   ]
  }
 ],
 "metadata": {
  "kernelspec": {
   "display_name": "Python 3",
   "language": "python",
   "name": "python3"
  },
  "language_info": {
   "codemirror_mode": {
    "name": "ipython",
    "version": 3
   },
   "file_extension": ".py",
   "mimetype": "text/x-python",
   "name": "python",
   "nbconvert_exporter": "python",
   "pygments_lexer": "ipython3",
   "version": "3.8.5"
  }
 },
 "nbformat": 4,
 "nbformat_minor": 4
}
